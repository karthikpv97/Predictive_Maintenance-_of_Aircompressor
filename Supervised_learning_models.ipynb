{
 "cells": [
  {
   "cell_type": "code",
   "execution_count": 1,
   "id": "0bad96c5-c541-4a94-b06d-10abfb4343c1",
   "metadata": {},
   "outputs": [],
   "source": [
    "# We shall use the balanced dataset for regression"
   ]
  },
  {
   "cell_type": "code",
   "execution_count": 2,
   "id": "d2e2e690-c1d9-4643-a010-bfc0cdc78731",
   "metadata": {},
   "outputs": [],
   "source": [
    "import numpy as np\n",
    "import pandas as pd\n",
    "import warnings\n",
    "warnings.filterwarnings('ignore')\n",
    "import matplotlib.pyplot as plt\n",
    "%matplotlib inline\n",
    "import seaborn as sns"
   ]
  },
  {
   "cell_type": "code",
   "execution_count": 3,
   "id": "d20113c7-6ea9-4b13-b87e-7c8d507eba84",
   "metadata": {},
   "outputs": [],
   "source": [
    "df=pd.read_csv(\"C:\\\\Users\\\\Karthik P V\\\\Desktop\\\\CP2\\\\balanced_data.csv\")"
   ]
  },
  {
   "cell_type": "code",
   "execution_count": 4,
   "id": "2a271617-3501-4740-8b93-7dba047f4ec3",
   "metadata": {},
   "outputs": [
    {
     "data": {
      "text/html": [
       "<div>\n",
       "<style scoped>\n",
       "    .dataframe tbody tr th:only-of-type {\n",
       "        vertical-align: middle;\n",
       "    }\n",
       "\n",
       "    .dataframe tbody tr th {\n",
       "        vertical-align: top;\n",
       "    }\n",
       "\n",
       "    .dataframe thead th {\n",
       "        text-align: right;\n",
       "    }\n",
       "</style>\n",
       "<table border=\"1\" class=\"dataframe\">\n",
       "  <thead>\n",
       "    <tr style=\"text-align: right;\">\n",
       "      <th></th>\n",
       "      <th>timestamp</th>\n",
       "      <th>TP2</th>\n",
       "      <th>TP3</th>\n",
       "      <th>H1</th>\n",
       "      <th>DV_pressure</th>\n",
       "      <th>Reservoirs</th>\n",
       "      <th>Oil_temperature</th>\n",
       "      <th>Motor_current</th>\n",
       "      <th>COMP</th>\n",
       "      <th>DV_eletric</th>\n",
       "      <th>Towers</th>\n",
       "      <th>MPG</th>\n",
       "      <th>LPS</th>\n",
       "      <th>Pressure_switch</th>\n",
       "      <th>Oil_level</th>\n",
       "      <th>Caudal_impulses</th>\n",
       "      <th>Airleak</th>\n",
       "    </tr>\n",
       "  </thead>\n",
       "  <tbody>\n",
       "    <tr>\n",
       "      <th>0</th>\n",
       "      <td>2020-04-18 00:00:01</td>\n",
       "      <td>-0.018</td>\n",
       "      <td>8.248</td>\n",
       "      <td>8.238</td>\n",
       "      <td>-0.024</td>\n",
       "      <td>8.248</td>\n",
       "      <td>49.45</td>\n",
       "      <td>0.04</td>\n",
       "      <td>1.0</td>\n",
       "      <td>0.0</td>\n",
       "      <td>1.0</td>\n",
       "      <td>1.0</td>\n",
       "      <td>0.0</td>\n",
       "      <td>1.0</td>\n",
       "      <td>1.0</td>\n",
       "      <td>1.0</td>\n",
       "      <td>1</td>\n",
       "    </tr>\n",
       "    <tr>\n",
       "      <th>1</th>\n",
       "      <td>2020-04-18 00:00:13</td>\n",
       "      <td>-0.018</td>\n",
       "      <td>8.248</td>\n",
       "      <td>8.238</td>\n",
       "      <td>-0.024</td>\n",
       "      <td>8.248</td>\n",
       "      <td>49.45</td>\n",
       "      <td>0.04</td>\n",
       "      <td>1.0</td>\n",
       "      <td>0.0</td>\n",
       "      <td>1.0</td>\n",
       "      <td>1.0</td>\n",
       "      <td>0.0</td>\n",
       "      <td>1.0</td>\n",
       "      <td>1.0</td>\n",
       "      <td>1.0</td>\n",
       "      <td>1</td>\n",
       "    </tr>\n",
       "    <tr>\n",
       "      <th>2</th>\n",
       "      <td>2020-04-18 00:00:24</td>\n",
       "      <td>-0.018</td>\n",
       "      <td>8.248</td>\n",
       "      <td>8.238</td>\n",
       "      <td>-0.024</td>\n",
       "      <td>8.248</td>\n",
       "      <td>49.45</td>\n",
       "      <td>0.04</td>\n",
       "      <td>1.0</td>\n",
       "      <td>0.0</td>\n",
       "      <td>1.0</td>\n",
       "      <td>1.0</td>\n",
       "      <td>0.0</td>\n",
       "      <td>1.0</td>\n",
       "      <td>1.0</td>\n",
       "      <td>1.0</td>\n",
       "      <td>1</td>\n",
       "    </tr>\n",
       "    <tr>\n",
       "      <th>3</th>\n",
       "      <td>2020-04-18 00:00:36</td>\n",
       "      <td>-0.018</td>\n",
       "      <td>8.248</td>\n",
       "      <td>8.238</td>\n",
       "      <td>-0.024</td>\n",
       "      <td>8.248</td>\n",
       "      <td>49.45</td>\n",
       "      <td>0.04</td>\n",
       "      <td>0.0</td>\n",
       "      <td>0.0</td>\n",
       "      <td>0.0</td>\n",
       "      <td>0.0</td>\n",
       "      <td>0.0</td>\n",
       "      <td>0.0</td>\n",
       "      <td>0.0</td>\n",
       "      <td>0.0</td>\n",
       "      <td>1</td>\n",
       "    </tr>\n",
       "    <tr>\n",
       "      <th>4</th>\n",
       "      <td>2020-04-18 00:00:49</td>\n",
       "      <td>-0.018</td>\n",
       "      <td>8.248</td>\n",
       "      <td>8.238</td>\n",
       "      <td>-0.024</td>\n",
       "      <td>8.248</td>\n",
       "      <td>49.45</td>\n",
       "      <td>0.04</td>\n",
       "      <td>1.0</td>\n",
       "      <td>0.0</td>\n",
       "      <td>1.0</td>\n",
       "      <td>1.0</td>\n",
       "      <td>0.0</td>\n",
       "      <td>1.0</td>\n",
       "      <td>1.0</td>\n",
       "      <td>1.0</td>\n",
       "      <td>1</td>\n",
       "    </tr>\n",
       "  </tbody>\n",
       "</table>\n",
       "</div>"
      ],
      "text/plain": [
       "             timestamp    TP2    TP3     H1  DV_pressure  Reservoirs  \\\n",
       "0  2020-04-18 00:00:01 -0.018  8.248  8.238       -0.024       8.248   \n",
       "1  2020-04-18 00:00:13 -0.018  8.248  8.238       -0.024       8.248   \n",
       "2  2020-04-18 00:00:24 -0.018  8.248  8.238       -0.024       8.248   \n",
       "3  2020-04-18 00:00:36 -0.018  8.248  8.238       -0.024       8.248   \n",
       "4  2020-04-18 00:00:49 -0.018  8.248  8.238       -0.024       8.248   \n",
       "\n",
       "   Oil_temperature  Motor_current  COMP  DV_eletric  Towers  MPG  LPS  \\\n",
       "0            49.45           0.04   1.0         0.0     1.0  1.0  0.0   \n",
       "1            49.45           0.04   1.0         0.0     1.0  1.0  0.0   \n",
       "2            49.45           0.04   1.0         0.0     1.0  1.0  0.0   \n",
       "3            49.45           0.04   0.0         0.0     0.0  0.0  0.0   \n",
       "4            49.45           0.04   1.0         0.0     1.0  1.0  0.0   \n",
       "\n",
       "   Pressure_switch  Oil_level  Caudal_impulses  Airleak  \n",
       "0              1.0        1.0              1.0        1  \n",
       "1              1.0        1.0              1.0        1  \n",
       "2              1.0        1.0              1.0        1  \n",
       "3              0.0        0.0              0.0        1  \n",
       "4              1.0        1.0              1.0        1  "
      ]
     },
     "execution_count": 4,
     "metadata": {},
     "output_type": "execute_result"
    }
   ],
   "source": [
    "df.head()"
   ]
  },
  {
   "cell_type": "code",
   "execution_count": 5,
   "id": "137cf9d0-0a5e-4ea6-a093-70a3b1cf040a",
   "metadata": {},
   "outputs": [
    {
     "data": {
      "text/plain": [
       "(59908, 17)"
      ]
     },
     "execution_count": 5,
     "metadata": {},
     "output_type": "execute_result"
    }
   ],
   "source": [
    "df.shape"
   ]
  },
  {
   "cell_type": "code",
   "execution_count": 6,
   "id": "186fa4cc-a223-4b80-ae4c-c4a7bfde6ee1",
   "metadata": {},
   "outputs": [],
   "source": [
    "df.drop('timestamp',axis=1,inplace=True)"
   ]
  },
  {
   "cell_type": "code",
   "execution_count": 7,
   "id": "68d0f1bc-a335-4fcb-b942-cb233dbd8d71",
   "metadata": {},
   "outputs": [
    {
     "name": "stdout",
     "output_type": "stream",
     "text": [
      "<class 'pandas.core.frame.DataFrame'>\n",
      "RangeIndex: 59908 entries, 0 to 59907\n",
      "Data columns (total 16 columns):\n",
      " #   Column           Non-Null Count  Dtype  \n",
      "---  ------           --------------  -----  \n",
      " 0   TP2              59908 non-null  float64\n",
      " 1   TP3              59908 non-null  float64\n",
      " 2   H1               59908 non-null  float64\n",
      " 3   DV_pressure      59908 non-null  float64\n",
      " 4   Reservoirs       59908 non-null  float64\n",
      " 5   Oil_temperature  59908 non-null  float64\n",
      " 6   Motor_current    59908 non-null  float64\n",
      " 7   COMP             59908 non-null  float64\n",
      " 8   DV_eletric       59908 non-null  float64\n",
      " 9   Towers           59908 non-null  float64\n",
      " 10  MPG              59908 non-null  float64\n",
      " 11  LPS              59908 non-null  float64\n",
      " 12  Pressure_switch  59908 non-null  float64\n",
      " 13  Oil_level        59908 non-null  float64\n",
      " 14  Caudal_impulses  59908 non-null  float64\n",
      " 15  Airleak          59908 non-null  int64  \n",
      "dtypes: float64(15), int64(1)\n",
      "memory usage: 7.3 MB\n"
     ]
    }
   ],
   "source": [
    "df.info()"
   ]
  },
  {
   "cell_type": "code",
   "execution_count": 8,
   "id": "29a4f9b8-0af2-4c0a-93c2-cd4444c6fcf6",
   "metadata": {},
   "outputs": [
    {
     "data": {
      "text/plain": [
       "1151"
      ]
     },
     "execution_count": 8,
     "metadata": {},
     "output_type": "execute_result"
    }
   ],
   "source": [
    "df.duplicated().sum()"
   ]
  },
  {
   "cell_type": "code",
   "execution_count": 9,
   "id": "117a1476-69a6-412d-9784-011edf6fb4cd",
   "metadata": {},
   "outputs": [],
   "source": [
    "df.drop_duplicates(inplace=True)"
   ]
  },
  {
   "cell_type": "code",
   "execution_count": 10,
   "id": "8443eb78-44c8-42a6-9fdc-07d5f9691c0d",
   "metadata": {},
   "outputs": [],
   "source": [
    "# Checking for outliers"
   ]
  },
  {
   "cell_type": "code",
   "execution_count": 11,
   "id": "0de07a82-c072-4172-94e9-958a04440a59",
   "metadata": {},
   "outputs": [
    {
     "data": {
      "image/png": "[encoded data removed]",
      "text/plain": [
       "<Figure size 800x400 with 1 Axes>"
      ]
     },
     "metadata": {},
     "output_type": "display_data"
    },
    {
     "data": {
      "image/png": "[encoded data removed]",
      "text/plain": [
       "<Figure size 800x400 with 1 Axes>"
      ]
     },
     "metadata": {},
     "output_type": "display_data"
    },
    {
     "data": {
      "image/png": "[encoded data removed]",
      "text/plain": [
       "<Figure size 800x400 with 1 Axes>"
      ]
     },
     "metadata": {},
     "output_type": "display_data"
    },
    {
     "data": {
      "image/png": "[encoded data removed]",
      "text/plain": [
       "<Figure size 800x400 with 1 Axes>"
      ]
     },
     "metadata": {},
     "output_type": "display_data"
    },
    {
     "data": {
      "image/png": "[encoded data removed]",
      "text/plain": [
       "<Figure size 800x400 with 1 Axes>"
      ]
     },
     "metadata": {},
     "output_type": "display_data"
    },
    {
     "data": {
      "image/png": "[encoded data removed]",
      "text/plain": [
       "<Figure size 800x400 with 1 Axes>"
      ]
     },
     "metadata": {},
     "output_type": "display_data"
    },
    {
     "data": {
      "image/png": "[encoded data removed]",
      "text/plain": [
       "<Figure size 800x400 with 1 Axes>"
      ]
     },
     "metadata": {},
     "output_type": "display_data"
    }
   ],
   "source": [
    "columns=['TP2','TP3','H1','DV_pressure','Reservoirs','Oil_temperature','Motor_current']\n",
    "# Plot boxplots only for numeric columns\n",
    "for col in columns:  \n",
    "    plt.figure(figsize=(8,4))\n",
    "    sns.boxplot(x=df[col])\n",
    "    plt.title(f\"Boxplot of {col}\")\n",
    "    plt.show()\n",
    "\n"
   ]
  },
  {
   "cell_type": "markdown",
   "id": "d334e384-1ef9-4617-b84c-cb023f46c38e",
   "metadata": {},
   "source": [
    "There are outliers in 3 features . But we shall not treat the outliers because we are using \n",
    "Random Forest , Decision tree ,Gradient Boost,XG Boost as these models are insensitive to outliers"
   ]
  },
  {
   "cell_type": "markdown",
   "id": "d7215709-b0b5-4be5-8843-1cb06f9eacd8",
   "metadata": {},
   "source": [
    "Scaling of Data is also not required"
   ]
  },
  {
   "cell_type": "code",
   "execution_count": 12,
   "id": "8ac00605-f9cc-4909-bb68-10e669930193",
   "metadata": {},
   "outputs": [],
   "source": [
    "X=df.drop('Airleak',axis=1)\n",
    "y=df['Airleak']"
   ]
  },
  {
   "cell_type": "code",
   "execution_count": 13,
   "id": "75917427-9b75-40a2-bc27-6f4d0ae6a23f",
   "metadata": {},
   "outputs": [
    {
     "data": {
      "text/plain": [
       "Airleak\n",
       "1    29865\n",
       "0    28892\n",
       "Name: count, dtype: int64"
      ]
     },
     "execution_count": 13,
     "metadata": {},
     "output_type": "execute_result"
    }
   ],
   "source": [
    "y.value_counts()"
   ]
  },
  {
   "cell_type": "code",
   "execution_count": 14,
   "id": "c1231666-1d86-4c29-b922-5bcce45f01ae",
   "metadata": {},
   "outputs": [],
   "source": [
    "# Since many features are higly correlated , lets perform PCA "
   ]
  },
  {
   "cell_type": "markdown",
   "id": "09fda7f3-418e-4ee2-ada5-39cf4dd97ffa",
   "metadata": {},
   "source": [
    "# PCA"
   ]
  },
  {
   "cell_type": "code",
   "execution_count": 15,
   "id": "53ecad75-8eba-4ec3-b2d6-56b531de958d",
   "metadata": {},
   "outputs": [
    {
     "name": "stdout",
     "output_type": "stream",
     "text": [
      "Number of PCA components selected: 7\n"
     ]
    },
    {
     "data": {
      "image/png": "[encoded data removed]",
      "text/plain": [
       "<Figure size 800x500 with 1 Axes>"
      ]
     },
     "metadata": {},
     "output_type": "display_data"
    },
    {
     "name": "stdout",
     "output_type": "stream",
     "text": [
      "        PC1       PC2       PC3       PC4       PC5       PC6       PC7\n",
      "0 -3.090010  1.445364  0.092423  0.192345  0.029677  1.063151  0.229768\n",
      "1  2.500439  1.110233  0.049479  0.113259 -0.069930  0.241015 -1.017193\n",
      "2  2.144702  0.905973  0.094685  0.164896  0.082627  0.081038  1.145390\n",
      "3 -2.817355 -1.722214  0.042230  0.235856  0.690752 -0.473110 -0.111925\n",
      "4  3.027021 -0.418247  0.043755  0.084013  0.132109 -0.452499 -0.986609\n"
     ]
    }
   ],
   "source": [
    "from sklearn.decomposition import PCA\n",
    "from sklearn.preprocessing import StandardScaler\n",
    "from sklearn.model_selection import train_test_split\n",
    "\n",
    "#Train-Test Split\n",
    "X_train, X_test, y_train, y_test = train_test_split(X, y, test_size=0.3, random_state=42)\n",
    "\n",
    "# Step 4: Standardize the Data (Important for PCA)\n",
    "scaler = StandardScaler()\n",
    "X_train_scaled = scaler.fit_transform(X_train)  \n",
    "X_test_scaled = scaler.transform(X_test)  # Apply same transformation to test data\n",
    "\n",
    "#  Apply PCA (retain 95% variance)\n",
    "pca = PCA(n_components=0.95)\n",
    "X_train_pca = pca.fit_transform(X_train_scaled)\n",
    "X_test_pca = pca.transform(X_test_scaled)\n",
    "\n",
    "#  Check Number of Selected Components\n",
    "num_components = pca.n_components_\n",
    "print(f\"Number of PCA components selected: {num_components}\")\n",
    "\n",
    "#  Plot Cumulative Explained Variance\n",
    "plt.figure(figsize=(8, 5))\n",
    "plt.plot(np.cumsum(pca.explained_variance_ratio_), marker='o', linestyle='--', color='b')\n",
    "plt.xlabel(\"Number of Principal Components\")\n",
    "plt.ylabel(\"Cumulative Explained Variance\")\n",
    "plt.title(\"PCA - Explained Variance vs. Number of Components\")\n",
    "plt.grid(True)\n",
    "plt.show()\n",
    "\n",
    "#  Convert Transformed Data to DataFrame\n",
    "pca_columns = [f\"PC{i+1}\" for i in range(num_components)]\n",
    "X_train_pca_df = pd.DataFrame(X_train_pca, columns=pca_columns)\n",
    "X_test_pca_df = pd.DataFrame(X_test_pca, columns=pca_columns)\n",
    "\n",
    "# Display first few rows of transformed data\n",
    "print(X_train_pca_df.head())\n",
    "\n",
    "# Now use X_train_pca_df and X_test_pca_df for model training\n"
   ]
  },
  {
   "cell_type": "markdown",
   "id": "0e286f26-0c18-49a8-b47f-252af0265ed8",
   "metadata": {},
   "source": [
    "# Model Training"
   ]
  },
  {
   "cell_type": "code",
   "execution_count": 21,
   "id": "5015f0c8-971f-48ec-8a15-e2fde709f0e5",
   "metadata": {},
   "outputs": [],
   "source": [
    "from sklearn.tree import DecisionTreeClassifier\n",
    "from sklearn.ensemble import RandomForestClassifier, GradientBoostingClassifier\n",
    "from xgboost import XGBClassifier\n",
    "from sklearn.metrics import accuracy_score, f1_score, precision_score, recall_score, roc_auc_score\n",
    "from sklearn.model_selection import GridSearchCV"
   ]
  },
  {
   "cell_type": "code",
   "execution_count": 23,
   "id": "0c23808f-9df0-41a9-a4ef-e41bc0ee322a",
   "metadata": {},
   "outputs": [
    {
     "name": "stdout",
     "output_type": "stream",
     "text": [
      " Tuning Decision Tree with GridSearchCV...\n",
      " Tuning Random Forest with GridSearchCV...\n",
      " Tuning Gradient Boosting with GridSearchCV...\n",
      " Tuning XGBoost with GridSearchCV...\n",
      "               Model  Train Accuracy  Test Accuracy  Train F1   Test F1  \\\n",
      "0      Decision Tree        0.997471       0.994894  0.997471  0.994894   \n",
      "1      Random Forest        0.999562       0.995972  0.999562  0.995972   \n",
      "2  Gradient Boosting        0.999903       0.995065  0.999903  0.995065   \n",
      "3            XGBoost        0.998249       0.995972  0.998249  0.995972   \n",
      "\n",
      "   Train Precision  Test Precision  Train Recall  Test Recall  Train AUC-ROC  \\\n",
      "0         0.997474        0.994903      0.997471     0.994894       0.999868   \n",
      "1         0.999563        0.995977      0.999562     0.995972       1.000000   \n",
      "2         0.999903        0.995070      0.999903     0.995065       1.000000   \n",
      "3         0.998251        0.995978      0.998249     0.995972       0.999988   \n",
      "\n",
      "   Test AUC-ROC  \n",
      "0      0.996713  \n",
      "1      0.999255  \n",
      "2      0.998967  \n",
      "3      0.999419  \n"
     ]
    }
   ],
   "source": [
    "models_params = {\n",
    "    \"Decision Tree\": {\n",
    "        \"model\": DecisionTreeClassifier(random_state=42),\n",
    "        \"params\": {\n",
    "            \"max_depth\": [5, 10, 15, None],\n",
    "            \"min_samples_split\": [2, 5, 10],\n",
    "            \"criterion\": [\"gini\", \"entropy\"]\n",
    "        }\n",
    "    },\n",
    "    \"Random Forest\": {\n",
    "        \"model\": RandomForestClassifier(random_state=42),\n",
    "        \"params\": {\n",
    "            \"n_estimators\": [10, 20, 30],\n",
    "            \"max_depth\": [5, 10, None],\n",
    "            \"min_samples_split\": [2, 5, 10]\n",
    "        }\n",
    "    },\n",
    "    \"Gradient Boosting\": {\n",
    "        \"model\": GradientBoostingClassifier(random_state=42),\n",
    "        \"params\": {\n",
    "            \"n_estimators\": [10, 20, 30],\n",
    "            \"learning_rate\": [0.01, 0.1, 0.2],\n",
    "            \"max_depth\": [3, 5, 10]\n",
    "        }\n",
    "    },\n",
    "    \"XGBoost\": {\n",
    "        \"model\": XGBClassifier(use_label_encoder=False, eval_metric='mlogloss', random_state=42),\n",
    "        \"params\": {\n",
    "            \"n_estimators\": [10, 20, 30],\n",
    "            \"learning_rate\": [0.01, 0.1, 0.2],\n",
    "            \"max_depth\": [3, 5, 10]\n",
    "        }\n",
    "    }\n",
    "}\n",
    "\n",
    "#  Train & Evaluate Models using GridSearchCV\n",
    "results = []\n",
    "best_models = {}\n",
    "\n",
    "for model_name, model_info in models_params.items():\n",
    "    print(f\" Tuning {model_name} with GridSearchCV...\")\n",
    "    \n",
    "    grid_search = GridSearchCV(model_info[\"model\"], model_info[\"params\"], cv=5, scoring=\"accuracy\", n_jobs=-1)\n",
    "    grid_search.fit(X_train_pca_df, y_train)\n",
    "    \n",
    "    best_model = grid_search.best_estimator_\n",
    "    best_models[model_name] = best_model  # Store best model\n",
    "    \n",
    "    # Predictions\n",
    "    y_train_pred = best_model.predict(X_train_pca_df)\n",
    "    y_test_pred = best_model.predict(X_test_pca_df)\n",
    "    y_train_prob = best_model.predict_proba(X_train_pca_df)[:,1]\n",
    "    y_test_prob = best_model.predict_proba(X_test_pca_df)[:,1]\n",
    "    \n",
    "     # Metrics\n",
    "    metrics = {\n",
    "        \"Model\": model_name,\n",
    "        \"Train Accuracy\": accuracy_score(y_train, y_train_pred),\n",
    "        \"Test Accuracy\": accuracy_score(y_test, y_test_pred),\n",
    "        \"Train F1\": f1_score(y_train, y_train_pred, average=\"weighted\"),\n",
    "        \"Test F1\": f1_score(y_test, y_test_pred, average=\"weighted\"),\n",
    "        \"Train Precision\": precision_score(y_train, y_train_pred, average=\"weighted\"),\n",
    "        \"Test Precision\": precision_score(y_test, y_test_pred, average=\"weighted\"),\n",
    "        \"Train Recall\": recall_score(y_train, y_train_pred, average=\"weighted\"),\n",
    "        \"Test Recall\": recall_score(y_test, y_test_pred, average=\"weighted\"),\n",
    "        \"Train AUC-ROC\": roc_auc_score(y_train, y_train_prob),\n",
    "        \"Test AUC-ROC\": roc_auc_score(y_test, y_test_prob)\n",
    "    }\n",
    "    results.append(metrics)\n",
    "\n",
    "# Convert results to DataFrame for tabulation\n",
    "results_df = pd.DataFrame(results)\n",
    "print(results_df)"
   ]
  },
  {
   "cell_type": "markdown",
   "id": "9962104c-2444-4415-9b83-df9a0a906cee",
   "metadata": {},
   "source": [
    "Observations:\n",
    "* Random Forest & XGBoost have the highest Test AUC-ROC (> 0.999), meaning they separate classes well.\n",
    "* Gradient Boosting & XGBoost are slightly overfitting (train accuracy is almost 1, test accuracy is lower).\n",
    "* Decision Tree has the lowest performance compared to ensemble models.\n",
    "* Random Forest is well-balanced between accuracy and generalization.\n",
    "\n"
   ]
  },
  {
   "cell_type": "markdown",
   "id": "1a6bc097-b733-4e9f-a7e2-62d67dfc6e04",
   "metadata": {},
   "source": [
    "# Export the model and deploy on streamlit"
   ]
  },
  {
   "cell_type": "code",
   "execution_count": 28,
   "id": "9cfc8adc-12b3-4adb-b0f5-a9bfde5e0bcb",
   "metadata": {},
   "outputs": [
    {
     "name": "stdout",
     "output_type": "stream",
     "text": [
      "Model, Scaler, and PCA saved successfully!\n"
     ]
    }
   ],
   "source": [
    "import pickle\n",
    "from sklearn.preprocessing import StandardScaler\n",
    "from sklearn.decomposition import PCA\n",
    "from sklearn.ensemble import RandomForestClassifier\n",
    "\n",
    "# Step 1: Feature Scaling\n",
    "scaler = StandardScaler()\n",
    "X_train_scaled = scaler.fit_transform(X_train)  # Fit and transform training data\n",
    "\n",
    "# Step 2: PCA Transformation\n",
    "pca = PCA(n_components=7)  # Set the number of components\n",
    "X_train_pca = pca.fit_transform(X_train_scaled)  # Fit PCA on training data\n",
    "\n",
    "# Step 3: Train Model\n",
    "model = RandomForestClassifier()\n",
    "model.fit(X_train_pca, y_train)\n",
    "\n",
    "# Step 4: Save Model, Scaler, and PCA Transformer\n",
    "with open(\"best_model.pkl\", \"wb\") as file:\n",
    "    pickle.dump(model, file)\n",
    "\n",
    "with open(\"scaler.pkl\", \"wb\") as file:\n",
    "    pickle.dump(scaler, file)\n",
    "\n",
    "with open(\"pca.pkl\", \"wb\") as file:\n",
    "    pickle.dump(pca, file)\n",
    "\n",
    "print(\"Model, Scaler, and PCA saved successfully!\")\n"
   ]
  },
  {
   "cell_type": "code",
   "execution_count": null,
   "id": "306edb7c-95f3-4311-a6a1-24d6541c9af8",
   "metadata": {},
   "outputs": [],
   "source": []
  }
 ],
 "metadata": {
  "kernelspec": {
   "display_name": "Python 3 (ipykernel)",
   "language": "python",
   "name": "python3"
  },
  "language_info": {
   "codemirror_mode": {
    "name": "ipython",
    "version": 3
   },
   "file_extension": ".py",
   "mimetype": "text/x-python",
   "name": "python",
   "nbconvert_exporter": "python",
   "pygments_lexer": "ipython3",
   "version": "3.12.7"
  }
 },
 "nbformat": 4,
 "nbformat_minor": 5
}
