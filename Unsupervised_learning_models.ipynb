{
 "cells": [
  {
   "cell_type": "code",
   "execution_count": 7,
   "id": "310e6f3a-b09e-45f2-a338-51dafadc2cdb",
   "metadata": {},
   "outputs": [],
   "source": [
    "import numpy as np\n",
    "import pandas as pd\n",
    "import matplotlib.pyplot as plt\n",
    "%matplotlib inline\n",
    "import seaborn as sns\n",
    "import warnings\n",
    "warnings.filterwarnings('ignore')"
   ]
  },
  {
   "cell_type": "code",
   "execution_count": 8,
   "id": "d9c727f7-db93-42df-9a8b-49369dadbd1b",
   "metadata": {},
   "outputs": [],
   "source": [
    "df=pd.read_csv(\"C:\\\\Users\\\\Karthik P V\\\\Desktop\\\\CP2\\\\labelled_data.csv\")"
   ]
  },
  {
   "cell_type": "code",
   "execution_count": 9,
   "id": "dde7098a-3c27-4747-ab42-39d286cfb3a7",
   "metadata": {},
   "outputs": [
    {
     "data": {
      "text/html": [
       "<div>\n",
       "<style scoped>\n",
       "    .dataframe tbody tr th:only-of-type {\n",
       "        vertical-align: middle;\n",
       "    }\n",
       "\n",
       "    .dataframe tbody tr th {\n",
       "        vertical-align: top;\n",
       "    }\n",
       "\n",
       "    .dataframe thead th {\n",
       "        text-align: right;\n",
       "    }\n",
       "</style>\n",
       "<table border=\"1\" class=\"dataframe\">\n",
       "  <thead>\n",
       "    <tr style=\"text-align: right;\">\n",
       "      <th></th>\n",
       "      <th>timestamp</th>\n",
       "      <th>TP2</th>\n",
       "      <th>TP3</th>\n",
       "      <th>H1</th>\n",
       "      <th>DV_pressure</th>\n",
       "      <th>Reservoirs</th>\n",
       "      <th>Oil_temperature</th>\n",
       "      <th>Motor_current</th>\n",
       "      <th>COMP</th>\n",
       "      <th>DV_eletric</th>\n",
       "      <th>Towers</th>\n",
       "      <th>MPG</th>\n",
       "      <th>LPS</th>\n",
       "      <th>Pressure_switch</th>\n",
       "      <th>Oil_level</th>\n",
       "      <th>Caudal_impulses</th>\n",
       "      <th>Airleak</th>\n",
       "    </tr>\n",
       "  </thead>\n",
       "  <tbody>\n",
       "    <tr>\n",
       "      <th>0</th>\n",
       "      <td>2020-02-01 00:00:00</td>\n",
       "      <td>-0.012</td>\n",
       "      <td>9.358</td>\n",
       "      <td>9.340</td>\n",
       "      <td>-0.024</td>\n",
       "      <td>9.358</td>\n",
       "      <td>53.600</td>\n",
       "      <td>0.0400</td>\n",
       "      <td>1.0</td>\n",
       "      <td>0.0</td>\n",
       "      <td>1.0</td>\n",
       "      <td>1.0</td>\n",
       "      <td>0.0</td>\n",
       "      <td>1.0</td>\n",
       "      <td>1.0</td>\n",
       "      <td>1.0</td>\n",
       "      <td>0</td>\n",
       "    </tr>\n",
       "    <tr>\n",
       "      <th>1</th>\n",
       "      <td>2020-02-01 00:00:10</td>\n",
       "      <td>-0.014</td>\n",
       "      <td>9.348</td>\n",
       "      <td>9.332</td>\n",
       "      <td>-0.022</td>\n",
       "      <td>9.348</td>\n",
       "      <td>53.675</td>\n",
       "      <td>0.0400</td>\n",
       "      <td>1.0</td>\n",
       "      <td>0.0</td>\n",
       "      <td>1.0</td>\n",
       "      <td>1.0</td>\n",
       "      <td>0.0</td>\n",
       "      <td>1.0</td>\n",
       "      <td>1.0</td>\n",
       "      <td>1.0</td>\n",
       "      <td>0</td>\n",
       "    </tr>\n",
       "    <tr>\n",
       "      <th>2</th>\n",
       "      <td>2020-02-01 00:00:19</td>\n",
       "      <td>-0.012</td>\n",
       "      <td>9.338</td>\n",
       "      <td>9.322</td>\n",
       "      <td>-0.022</td>\n",
       "      <td>9.338</td>\n",
       "      <td>53.600</td>\n",
       "      <td>0.0425</td>\n",
       "      <td>1.0</td>\n",
       "      <td>0.0</td>\n",
       "      <td>1.0</td>\n",
       "      <td>1.0</td>\n",
       "      <td>0.0</td>\n",
       "      <td>1.0</td>\n",
       "      <td>1.0</td>\n",
       "      <td>1.0</td>\n",
       "      <td>0</td>\n",
       "    </tr>\n",
       "    <tr>\n",
       "      <th>3</th>\n",
       "      <td>2020-02-01 00:00:29</td>\n",
       "      <td>-0.012</td>\n",
       "      <td>9.328</td>\n",
       "      <td>9.312</td>\n",
       "      <td>-0.022</td>\n",
       "      <td>9.328</td>\n",
       "      <td>53.425</td>\n",
       "      <td>0.0400</td>\n",
       "      <td>1.0</td>\n",
       "      <td>0.0</td>\n",
       "      <td>1.0</td>\n",
       "      <td>1.0</td>\n",
       "      <td>0.0</td>\n",
       "      <td>1.0</td>\n",
       "      <td>1.0</td>\n",
       "      <td>1.0</td>\n",
       "      <td>0</td>\n",
       "    </tr>\n",
       "    <tr>\n",
       "      <th>4</th>\n",
       "      <td>2020-02-01 00:00:39</td>\n",
       "      <td>-0.012</td>\n",
       "      <td>9.318</td>\n",
       "      <td>9.302</td>\n",
       "      <td>-0.022</td>\n",
       "      <td>9.318</td>\n",
       "      <td>53.475</td>\n",
       "      <td>0.0400</td>\n",
       "      <td>1.0</td>\n",
       "      <td>0.0</td>\n",
       "      <td>1.0</td>\n",
       "      <td>1.0</td>\n",
       "      <td>0.0</td>\n",
       "      <td>1.0</td>\n",
       "      <td>1.0</td>\n",
       "      <td>1.0</td>\n",
       "      <td>0</td>\n",
       "    </tr>\n",
       "  </tbody>\n",
       "</table>\n",
       "</div>"
      ],
      "text/plain": [
       "             timestamp    TP2    TP3     H1  DV_pressure  Reservoirs  \\\n",
       "0  2020-02-01 00:00:00 -0.012  9.358  9.340       -0.024       9.358   \n",
       "1  2020-02-01 00:00:10 -0.014  9.348  9.332       -0.022       9.348   \n",
       "2  2020-02-01 00:00:19 -0.012  9.338  9.322       -0.022       9.338   \n",
       "3  2020-02-01 00:00:29 -0.012  9.328  9.312       -0.022       9.328   \n",
       "4  2020-02-01 00:00:39 -0.012  9.318  9.302       -0.022       9.318   \n",
       "\n",
       "   Oil_temperature  Motor_current  COMP  DV_eletric  Towers  MPG  LPS  \\\n",
       "0           53.600         0.0400   1.0         0.0     1.0  1.0  0.0   \n",
       "1           53.675         0.0400   1.0         0.0     1.0  1.0  0.0   \n",
       "2           53.600         0.0425   1.0         0.0     1.0  1.0  0.0   \n",
       "3           53.425         0.0400   1.0         0.0     1.0  1.0  0.0   \n",
       "4           53.475         0.0400   1.0         0.0     1.0  1.0  0.0   \n",
       "\n",
       "   Pressure_switch  Oil_level  Caudal_impulses  Airleak  \n",
       "0              1.0        1.0              1.0        0  \n",
       "1              1.0        1.0              1.0        0  \n",
       "2              1.0        1.0              1.0        0  \n",
       "3              1.0        1.0              1.0        0  \n",
       "4              1.0        1.0              1.0        0  "
      ]
     },
     "execution_count": 9,
     "metadata": {},
     "output_type": "execute_result"
    }
   ],
   "source": [
    "df.head()"
   ]
  },
  {
   "cell_type": "code",
   "execution_count": 16,
   "id": "e3532f3f-8782-419a-bf3f-a40a8e08b01c",
   "metadata": {},
   "outputs": [],
   "source": [
    "df.drop('timestamp' , axis=1 , inplace=True)"
   ]
  },
  {
   "cell_type": "code",
   "execution_count": 17,
   "id": "cd02cc24-efcc-4785-ba9a-d02d9f6336e7",
   "metadata": {},
   "outputs": [
    {
     "name": "stdout",
     "output_type": "stream",
     "text": [
      "<class 'pandas.core.frame.DataFrame'>\n",
      "RangeIndex: 1516948 entries, 0 to 1516947\n",
      "Data columns (total 16 columns):\n",
      " #   Column           Non-Null Count    Dtype  \n",
      "---  ------           --------------    -----  \n",
      " 0   TP2              1516948 non-null  float64\n",
      " 1   TP3              1516948 non-null  float64\n",
      " 2   H1               1516948 non-null  float64\n",
      " 3   DV_pressure      1516948 non-null  float64\n",
      " 4   Reservoirs       1516948 non-null  float64\n",
      " 5   Oil_temperature  1516948 non-null  float64\n",
      " 6   Motor_current    1516948 non-null  float64\n",
      " 7   COMP             1516948 non-null  float64\n",
      " 8   DV_eletric       1516948 non-null  float64\n",
      " 9   Towers           1516948 non-null  float64\n",
      " 10  MPG              1516948 non-null  float64\n",
      " 11  LPS              1516948 non-null  float64\n",
      " 12  Pressure_switch  1516948 non-null  float64\n",
      " 13  Oil_level        1516948 non-null  float64\n",
      " 14  Caudal_impulses  1516948 non-null  float64\n",
      " 15  Airleak          1516948 non-null  int64  \n",
      "dtypes: float64(15), int64(1)\n",
      "memory usage: 185.2 MB\n"
     ]
    }
   ],
   "source": [
    "df.info()"
   ]
  },
  {
   "cell_type": "code",
   "execution_count": 18,
   "id": "25cef41d-e7b5-4afa-970b-2b992c2930e9",
   "metadata": {},
   "outputs": [
    {
     "data": {
      "text/plain": [
       "(29954, 16)"
      ]
     },
     "execution_count": 18,
     "metadata": {},
     "output_type": "execute_result"
    }
   ],
   "source": [
    "df[df['Airleak']==1].shape"
   ]
  },
  {
   "cell_type": "markdown",
   "id": "75be904a-35b6-4eda-ab67-2b1059fafbff",
   "metadata": {},
   "source": [
    "# Failure detection"
   ]
  },
  {
   "cell_type": "markdown",
   "id": "31c2cb5a-38be-4bd1-9ee3-43e0452f49d2",
   "metadata": {},
   "source": [
    "According to the company's report , we can see that there are 29,954 instances of failure.\n",
    "Now lets use clustering method to predict potential failure instances"
   ]
  },
  {
   "cell_type": "code",
   "execution_count": 15,
   "id": "b45b0c52-0c10-411c-9d9f-f94309b0da5b",
   "metadata": {},
   "outputs": [],
   "source": [
    "from sklearn.cluster import KMeans\n",
    "from sklearn.preprocessing import StandardScaler"
   ]
  },
  {
   "cell_type": "code",
   "execution_count": 19,
   "id": "b562c1b0-62e7-45c0-91aa-4bafb48d4581",
   "metadata": {},
   "outputs": [],
   "source": [
    "scaler = StandardScaler()\n",
    "df_standardized = scaler.fit_transform(df)"
   ]
  },
  {
   "cell_type": "code",
   "execution_count": 20,
   "id": "b300dc62-eebf-43dc-a70b-6a6a3738a50a",
   "metadata": {},
   "outputs": [
    {
     "data": {
      "text/html": [
       "<div>\n",
       "<style scoped>\n",
       "    .dataframe tbody tr th:only-of-type {\n",
       "        vertical-align: middle;\n",
       "    }\n",
       "\n",
       "    .dataframe tbody tr th {\n",
       "        vertical-align: top;\n",
       "    }\n",
       "\n",
       "    .dataframe thead th {\n",
       "        text-align: right;\n",
       "    }\n",
       "</style>\n",
       "<table border=\"1\" class=\"dataframe\">\n",
       "  <thead>\n",
       "    <tr style=\"text-align: right;\">\n",
       "      <th></th>\n",
       "      <th>TP2</th>\n",
       "      <th>TP3</th>\n",
       "      <th>H1</th>\n",
       "      <th>DV_pressure</th>\n",
       "      <th>Reservoirs</th>\n",
       "      <th>Oil_temperature</th>\n",
       "      <th>Motor_current</th>\n",
       "      <th>COMP</th>\n",
       "      <th>DV_eletric</th>\n",
       "      <th>Towers</th>\n",
       "      <th>MPG</th>\n",
       "      <th>LPS</th>\n",
       "      <th>Pressure_switch</th>\n",
       "      <th>Oil_level</th>\n",
       "      <th>Caudal_impulses</th>\n",
       "      <th>Airleak</th>\n",
       "      <th>Cluster</th>\n",
       "    </tr>\n",
       "  </thead>\n",
       "  <tbody>\n",
       "    <tr>\n",
       "      <th>0</th>\n",
       "      <td>-0.012</td>\n",
       "      <td>9.358</td>\n",
       "      <td>9.340</td>\n",
       "      <td>-0.024</td>\n",
       "      <td>9.358</td>\n",
       "      <td>53.600</td>\n",
       "      <td>0.0400</td>\n",
       "      <td>1.0</td>\n",
       "      <td>0.0</td>\n",
       "      <td>1.0</td>\n",
       "      <td>1.0</td>\n",
       "      <td>0.0</td>\n",
       "      <td>1.0</td>\n",
       "      <td>1.0</td>\n",
       "      <td>1.0</td>\n",
       "      <td>0</td>\n",
       "      <td>1</td>\n",
       "    </tr>\n",
       "    <tr>\n",
       "      <th>1</th>\n",
       "      <td>-0.014</td>\n",
       "      <td>9.348</td>\n",
       "      <td>9.332</td>\n",
       "      <td>-0.022</td>\n",
       "      <td>9.348</td>\n",
       "      <td>53.675</td>\n",
       "      <td>0.0400</td>\n",
       "      <td>1.0</td>\n",
       "      <td>0.0</td>\n",
       "      <td>1.0</td>\n",
       "      <td>1.0</td>\n",
       "      <td>0.0</td>\n",
       "      <td>1.0</td>\n",
       "      <td>1.0</td>\n",
       "      <td>1.0</td>\n",
       "      <td>0</td>\n",
       "      <td>1</td>\n",
       "    </tr>\n",
       "    <tr>\n",
       "      <th>2</th>\n",
       "      <td>-0.012</td>\n",
       "      <td>9.338</td>\n",
       "      <td>9.322</td>\n",
       "      <td>-0.022</td>\n",
       "      <td>9.338</td>\n",
       "      <td>53.600</td>\n",
       "      <td>0.0425</td>\n",
       "      <td>1.0</td>\n",
       "      <td>0.0</td>\n",
       "      <td>1.0</td>\n",
       "      <td>1.0</td>\n",
       "      <td>0.0</td>\n",
       "      <td>1.0</td>\n",
       "      <td>1.0</td>\n",
       "      <td>1.0</td>\n",
       "      <td>0</td>\n",
       "      <td>1</td>\n",
       "    </tr>\n",
       "    <tr>\n",
       "      <th>3</th>\n",
       "      <td>-0.012</td>\n",
       "      <td>9.328</td>\n",
       "      <td>9.312</td>\n",
       "      <td>-0.022</td>\n",
       "      <td>9.328</td>\n",
       "      <td>53.425</td>\n",
       "      <td>0.0400</td>\n",
       "      <td>1.0</td>\n",
       "      <td>0.0</td>\n",
       "      <td>1.0</td>\n",
       "      <td>1.0</td>\n",
       "      <td>0.0</td>\n",
       "      <td>1.0</td>\n",
       "      <td>1.0</td>\n",
       "      <td>1.0</td>\n",
       "      <td>0</td>\n",
       "      <td>1</td>\n",
       "    </tr>\n",
       "    <tr>\n",
       "      <th>4</th>\n",
       "      <td>-0.012</td>\n",
       "      <td>9.318</td>\n",
       "      <td>9.302</td>\n",
       "      <td>-0.022</td>\n",
       "      <td>9.318</td>\n",
       "      <td>53.475</td>\n",
       "      <td>0.0400</td>\n",
       "      <td>1.0</td>\n",
       "      <td>0.0</td>\n",
       "      <td>1.0</td>\n",
       "      <td>1.0</td>\n",
       "      <td>0.0</td>\n",
       "      <td>1.0</td>\n",
       "      <td>1.0</td>\n",
       "      <td>1.0</td>\n",
       "      <td>0</td>\n",
       "      <td>1</td>\n",
       "    </tr>\n",
       "  </tbody>\n",
       "</table>\n",
       "</div>"
      ],
      "text/plain": [
       "     TP2    TP3     H1  DV_pressure  Reservoirs  Oil_temperature  \\\n",
       "0 -0.012  9.358  9.340       -0.024       9.358           53.600   \n",
       "1 -0.014  9.348  9.332       -0.022       9.348           53.675   \n",
       "2 -0.012  9.338  9.322       -0.022       9.338           53.600   \n",
       "3 -0.012  9.328  9.312       -0.022       9.328           53.425   \n",
       "4 -0.012  9.318  9.302       -0.022       9.318           53.475   \n",
       "\n",
       "   Motor_current  COMP  DV_eletric  Towers  MPG  LPS  Pressure_switch  \\\n",
       "0         0.0400   1.0         0.0     1.0  1.0  0.0              1.0   \n",
       "1         0.0400   1.0         0.0     1.0  1.0  0.0              1.0   \n",
       "2         0.0425   1.0         0.0     1.0  1.0  0.0              1.0   \n",
       "3         0.0400   1.0         0.0     1.0  1.0  0.0              1.0   \n",
       "4         0.0400   1.0         0.0     1.0  1.0  0.0              1.0   \n",
       "\n",
       "   Oil_level  Caudal_impulses  Airleak  Cluster  \n",
       "0        1.0              1.0        0        1  \n",
       "1        1.0              1.0        0        1  \n",
       "2        1.0              1.0        0        1  \n",
       "3        1.0              1.0        0        1  \n",
       "4        1.0              1.0        0        1  "
      ]
     },
     "execution_count": 20,
     "metadata": {},
     "output_type": "execute_result"
    }
   ],
   "source": [
    "# Apply K-means clustering\n",
    "kmeans = KMeans(n_clusters=2, random_state=42)\n",
    "df['Cluster'] = kmeans.fit_predict(df_standardized)\n",
    "\n",
    "\n",
    "df.head()"
   ]
  },
  {
   "cell_type": "code",
   "execution_count": 22,
   "id": "a60c21e5-7743-4b84-8bec-97c7fd5ee79d",
   "metadata": {},
   "outputs": [
    {
     "data": {
      "text/plain": [
       "Cluster\n",
       "1    1268718\n",
       "0     248230\n",
       "Name: count, dtype: int64"
      ]
     },
     "execution_count": 22,
     "metadata": {},
     "output_type": "execute_result"
    }
   ],
   "source": [
    "df['Cluster'].value_counts()"
   ]
  },
  {
   "cell_type": "code",
   "execution_count": 24,
   "id": "070edaf5-e61d-464e-811c-f88676d1ed46",
   "metadata": {},
   "outputs": [
    {
     "data": {
      "text/plain": [
       "Cluster\n",
       "0    29821\n",
       "1      133\n",
       "Name: count, dtype: int64"
      ]
     },
     "execution_count": 24,
     "metadata": {},
     "output_type": "execute_result"
    }
   ],
   "source": [
    "df[df['Airleak']==1]['Cluster'].value_counts()"
   ]
  },
  {
   "cell_type": "code",
   "execution_count": 25,
   "id": "f5546ee6-5989-400c-bcf1-f8dadb90686f",
   "metadata": {},
   "outputs": [],
   "source": [
    "# We can observe that , for Airleak = 1 , Cluster assignment = 0"
   ]
  },
  {
   "cell_type": "markdown",
   "id": "7ba0e1f2-0933-4573-a3d0-4d63de980bb1",
   "metadata": {},
   "source": [
    "### Using clustering method , We have observed that there are 2,48,230 instances of potential Airleak Failures"
   ]
  },
  {
   "cell_type": "code",
   "execution_count": null,
   "id": "448c3513-925f-489a-81c5-5a9ccd6c65b6",
   "metadata": {},
   "outputs": [],
   "source": []
  }
 ],
 "metadata": {
  "kernelspec": {
   "display_name": "Python 3 (ipykernel)",
   "language": "python",
   "name": "python3"
  },
  "language_info": {
   "codemirror_mode": {
    "name": "ipython",
    "version": 3
   },
   "file_extension": ".py",
   "mimetype": "text/x-python",
   "name": "python",
   "nbconvert_exporter": "python",
   "pygments_lexer": "ipython3",
   "version": "3.12.7"
  }
 },
 "nbformat": 4,
 "nbformat_minor": 5
}
